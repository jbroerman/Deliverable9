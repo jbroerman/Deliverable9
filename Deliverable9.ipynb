{
  "nbformat": 4,
  "nbformat_minor": 0,
  "metadata": {
    "colab": {
      "provenance": []
    },
    "kernelspec": {
      "name": "python3",
      "display_name": "Python 3"
    },
    "language_info": {
      "name": "python"
    }
  },
  "cells": [
    {
      "cell_type": "markdown",
      "source": [
        "Problem: Using the data provided, the model should be able to predict the target variable (cancer, yes/no) based on the features provided to the model (radius, size, area, etc). The model can help tell both patients and doctors whether or not a tumor is malignant or benign before a biopsy is done."
      ],
      "metadata": {
        "id": "y7CJxgpgCwtQ"
      }
    },
    {
      "cell_type": "code",
      "source": [
        "from sklearn.datasets import load_breast_cancer\n",
        "from sklearn.metrics import precision_score\n",
        "\n",
        "breast_cancer = load_breast_cancer()\n",
        "\n",
        "response = breast_cancer.target\n",
        "features = breast_cancer.data\n",
        "\n",
        "X_train, X_test, y_train, y_test = train_test_split(features, response, test_size=0.25, random_state=42)\n"
      ],
      "metadata": {
        "id": "l9NgqTVyBe9Y"
      },
      "execution_count": 88,
      "outputs": []
    },
    {
      "cell_type": "code",
      "source": [
        "dt = DecisionTreeClassifier()\n",
        "\n",
        "dt.fit(X_train, y_train)\n",
        "\n",
        "y_pred = dt.predict(X_test)\n",
        "\n",
        "accuracy = accuracy_score(y_test, y_pred)\n",
        "print(f\"The model has an accuracy of: {accuracy}\")\n",
        "\n",
        "precision = precision_score(y_test, y_pred)\n",
        "print(f\"Precision of the model: {precision}\")\n"
      ],
      "metadata": {
        "colab": {
          "base_uri": "https://localhost:8080/"
        },
        "id": "9lWQ2iW4COoJ",
        "outputId": "8d4e9723-5220-4299-b471-f52f9fc73772"
      },
      "execution_count": 90,
      "outputs": [
        {
          "output_type": "stream",
          "name": "stdout",
          "text": [
            "The model has an accuracy of: 0.9440559440559441\n",
            "Precision of the model: 0.9655172413793104\n"
          ]
        }
      ]
    },
    {
      "cell_type": "markdown",
      "source": [
        "Overall when we look at what our model is capable of predicting, it seemingly is able to achieve north of a 93 percent accuracy on any given instance. This means that our model is able to accurately predict 95 out of 100 times when a tumor is malignant. Additionally, the precision metric is able to be used to confirm false positives for our malignant tumors. Our model is very precise, and only around 4/100 tumors that are reported malignant aren't. A simple decision tree model like so is able to accurately identify tumors."
      ],
      "metadata": {
        "id": "SNAJSMCGEuA_"
      }
    }
  ]
}